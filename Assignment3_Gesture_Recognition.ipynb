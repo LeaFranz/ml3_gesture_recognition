{
  "cells": [
    {
      "attachments": {},
      "cell_type": "markdown",
      "metadata": {
        "id": "8ntv81xGHOug"
      },
      "source": [
        "# Assignment 3: Gesture Recognition\n",
        "Group 2: Jakob Dittrich, David Reiter, Thomas Sickinger, Lea Franz"
      ]
    },
    {
      "attachments": {},
      "cell_type": "markdown",
      "metadata": {
        "id": "MGDZRRIhmXnX"
      },
      "source": [
        "## Setup"
      ]
    },
    {
      "cell_type": "code",
      "execution_count": 952,
      "metadata": {
        "id": "F-H-sQDQmY93"
      },
      "outputs": [],
      "source": [
        "import pandas as pd\n",
        "import numpy as np\n",
        "import matplotlib.pyplot as plt\n",
        "import seaborn as sns\n",
        "from scipy.signal import savgol_filter, medfilt, wiener\n",
        "from sklearn.preprocessing import StandardScaler\n",
        "from sklearn.decomposition import PCA\n",
        "\n",
        "from scipy.signal import savgol_filter, medfilt, wiener\n",
        "from sklearn.preprocessing import StandardScaler\n",
        "from sklearn.decomposition import PCA\n",
        "from sklearn.model_selection import train_test_split\n",
        "from sklearn.metrics import ConfusionMatrixDisplay\n",
        "from sklearn.neighbors import KNeighborsClassifier\n",
        "from sklearn.svm import SVC\n",
        "from sklearn.metrics import recall_score, precision_score, accuracy_score\n",
        "from sklearn.metrics import confusion_matrix, f1_score, classification_report\n",
        "from sklearn.neighbors import KNeighborsClassifier\n",
        "from sklearn.svm import SVC\n",
        "from sklearn.ensemble import RandomForestClassifier\n",
        "from sklearn.model_selection import GridSearchCV\n",
        "from sklearn.pipeline import Pipeline\n",
        "\n",
        "# color for plots\n",
        "pltcolor = '#002b36'\n",
        "from warnings import simplefilter\n",
        "# ignore all future warnings\n",
        "simplefilter(action='ignore', category=FutureWarning)"
      ]
    },
    {
      "cell_type": "markdown",
      "metadata": {
        "id": "r4eZ2pkuse7i"
      },
      "source": [
        "### Preprocessed data"
      ]
    },
    {
      "cell_type": "code",
      "execution_count": 953,
      "metadata": {
        "id": "s7vMky5xslmX"
      },
      "outputs": [],
      "source": [
        "number_cols = len(pd.read_csv('gesture_recognition_preprocessed_data.csv', header=None).columns)\n",
        "names_cols = ['gesture', 'person', 'sample']\n",
        "for x in range(number_cols - 3):\n",
        "  names_cols.append(\"C\"+str(x))"
      ]
    },
    {
      "cell_type": "code",
      "execution_count": 954,
      "metadata": {
        "colab": {
          "base_uri": "https://localhost:8080/",
          "height": 488
        },
        "id": "6UWijLWDs6h7",
        "outputId": "0791001b-9b4b-4c39-e9e4-e8dccfd7aa7c"
      },
      "outputs": [
        {
          "data": {
            "text/plain": [
              "Index(['gesture', 'X1', 'X2', 'X3', 'X4', 'X5', 'X6', 'X7', 'X8', 'X9', 'X10',\n",
              "       'X11', 'X12', 'X13', 'X14', 'X15', 'X16', 'X17', 'X18', 'X19', 'X20',\n",
              "       'Y1', 'Y2', 'Y3', 'Y4', 'Y5', 'Y6', 'Y7', 'Y8', 'Y9', 'Y10', 'Y11',\n",
              "       'Y12', 'Y13', 'Y14', 'Y15', 'Y16', 'Y17', 'Y18', 'Y19', 'Y20', 'Z1',\n",
              "       'Z2', 'Z3', 'Z4', 'Z5', 'Z6', 'Z7', 'Z8', 'Z9', 'Z10', 'Z11', 'Z12',\n",
              "       'Z13', 'Z14', 'Z15', 'Z16', 'Z17', 'Z18', 'Z19', 'Z20'],\n",
              "      dtype='object')"
            ]
          },
          "execution_count": 954,
          "metadata": {},
          "output_type": "execute_result"
        }
      ],
      "source": [
        "df = pd.read_csv('gesture_recognition_preprocessed_data.csv')\n",
        "# person and sample not relevant at this time because we want to detect gestures\n",
        "# in general\n",
        "df.drop(columns=[\"person\", \"sample\"], inplace=True)\n",
        "for i in range(1, 21):\n",
        "    df.rename(columns={\"X\"+str(i)+\".1\": \"Y\"+str(i)}, inplace=True)\n",
        "    df.rename(columns={\"X\"+str(i)+\".2\": \"Z\"+str(i)}, inplace=True)\n",
        "df.columns"
      ]
    },
    {
      "attachments": {},
      "cell_type": "markdown",
      "metadata": {},
      "source": [
        "## Data analysis"
      ]
    },
    {
      "cell_type": "code",
      "execution_count": 955,
      "metadata": {},
      "outputs": [
        {
          "name": "stdout",
          "output_type": "stream",
          "text": [
            "There are 2160 samples with 8 kinds of gestures: ['left', 'right', 'up', 'down', 'square', 'triangle', 'circleCw', 'circleCcw']\n"
          ]
        }
      ],
      "source": [
        "gestures = df['gesture'].unique().tolist()\n",
        "print(\"There are \"+str(len(df))+\" samples with \"+str(len(gestures))+\" kinds of gestures: \"+str(gestures))"
      ]
    },
    {
      "cell_type": "code",
      "execution_count": 956,
      "metadata": {},
      "outputs": [
        {
          "data": {
            "image/png": "[encoded data removed]",
            "text/plain": [
              "<Figure size 432x288 with 1 Axes>"
            ]
          },
          "metadata": {
            "needs_background": "light"
          },
          "output_type": "display_data"
        }
      ],
      "source": [
        "table = df['gesture'].value_counts()\n",
        "ax = table.plot(kind='bar', rot=0, color=pltcolor);\n",
        "ax.bar_label(ax.containers[0]);"
      ]
    },
    {
      "attachments": {},
      "cell_type": "markdown",
      "metadata": {},
      "source": [
        "The plot shows that the classes are balanced and all include 270 samples."
      ]
    },
    {
      "cell_type": "code",
      "execution_count": 957,
      "metadata": {},
      "outputs": [
        {
          "data": {
            "text/plain": [
              "X5   Y6    -0.384871\n",
              "     Y7    -0.383822\n",
              "X6   Y7    -0.369919\n",
              "X4   Y6    -0.355237\n",
              "Y5   X4    -0.348510\n",
              "              ...   \n",
              "X20  X18    0.911329\n",
              "Z19  Z20    0.916037\n",
              "X19  X18    0.953333\n",
              "X20  X19    0.972225\n",
              "X1   X1     1.000000\n",
              "Length: 1771, dtype: float64"
            ]
          },
          "execution_count": 957,
          "metadata": {},
          "output_type": "execute_result"
        }
      ],
      "source": [
        "df_corr = df\n",
        "df_corr.corr().unstack().sort_values().drop_duplicates()"
      ]
    },
    {
      "attachments": {},
      "cell_type": "markdown",
      "metadata": {},
      "source": [
        "There are some highly correlated features such as X20 and X19, however there aren't any highly inverse correlated ones."
      ]
    },
    {
      "cell_type": "code",
      "execution_count": 958,
      "metadata": {},
      "outputs": [
        {
          "data": {
            "image/png": "[encoded data removed]",
            "text/plain": [
              "<Figure size 432x288 with 1 Axes>"
            ]
          },
          "metadata": {
            "needs_background": "light"
          },
          "output_type": "display_data"
        }
      ],
      "source": [
        "df.plot.scatter(\"X20\", \"X19\", c=\"#1b324a\", marker='.');"
      ]
    },
    {
      "attachments": {},
      "cell_type": "markdown",
      "metadata": {},
      "source": [
        "### Visualization of gestures"
      ]
    },
    {
      "cell_type": "code",
      "execution_count": 959,
      "metadata": {},
      "outputs": [],
      "source": [
        "def visualize_gesture(gesture):\n",
        "    df_temp = df.loc[df['gesture'] == gesture]\n",
        "    del df_temp[df_temp.columns[0]]\n",
        "    df_temp = df_temp.T\n",
        "\n",
        "    sns.lineplot(df_temp, legend=False).set(\n",
        "        xticks=range(0, len(df.columns), 10), title=gesture)\n"
      ]
    },
    {
      "cell_type": "code",
      "execution_count": 960,
      "metadata": {},
      "outputs": [
        {
          "data": {
            "text/plain": [
              "<Figure size 432x288 with 0 Axes>"
            ]
          },
          "metadata": {},
          "output_type": "display_data"
        },
        {
          "data": {
            "text/plain": [
              "<Figure size 432x288 with 0 Axes>"
            ]
          },
          "metadata": {},
          "output_type": "display_data"
        },
        {
          "data": {
            "text/plain": [
              "<Figure size 432x288 with 0 Axes>"
            ]
          },
          "metadata": {},
          "output_type": "display_data"
        },
        {
          "data": {
            "text/plain": [
              "<Figure size 432x288 with 0 Axes>"
            ]
          },
          "metadata": {},
          "output_type": "display_data"
        },
        {
          "data": {
            "text/plain": [
              "<Figure size 432x288 with 0 Axes>"
            ]
          },
          "metadata": {},
          "output_type": "display_data"
        },
        {
          "data": {
            "text/plain": [
              "<Figure size 432x288 with 0 Axes>"
            ]
          },
          "metadata": {},
          "output_type": "display_data"
        },
        {
          "data": {
            "text/plain": [
              "<Figure size 432x288 with 0 Axes>"
            ]
          },
          "metadata": {},
          "output_type": "display_data"
        },
        {
          "data": {
            "text/plain": [
              "<Figure size 432x288 with 0 Axes>"
            ]
          },
          "metadata": {},
          "output_type": "display_data"
        }
      ],
      "source": [
        "for i, gest in enumerate(gestures):\n",
        "    plt.figure(i)\n",
        "    #visualize_gesture(gest)"
      ]
    },
    {
      "attachments": {},
      "cell_type": "markdown",
      "metadata": {
        "id": "zKNmvIQpmZlZ"
      },
      "source": [
        "## Preprocessing"
      ]
    },
    {
      "cell_type": "markdown",
      "metadata": {
        "id": "punL83lWzQMD"
      },
      "source": [
        "## TODO Preprocessing Chain chart/diagram"
      ]
    },
    {
      "attachments": {},
      "cell_type": "markdown",
      "metadata": {},
      "source": [
        "### Filter"
      ]
    },
    {
      "attachments": {},
      "cell_type": "markdown",
      "metadata": {},
      "source": [
        "The recorded acceleration should be filtered to reduce noise. Possible options for that are for example a rolling mean, rolling median or the savgol filter as well as other filters from scipy.signal."
      ]
    },
    {
      "cell_type": "markdown",
      "metadata": {
        "id": "yafNCoKlvBUU"
      },
      "source": [
        "TODO: remove -> Recorded acceleration should probably be filtered to reduce noise. The\n",
        "rolling function of pandas can help here. Consider e.g. running mean,\n",
        "running median, or SV filters. Hint: you probably need to apply a stronger\n",
        "filter than would seem intuitive at the beginning. Think about which info\n",
        "needs to remain in the task - it might be less that you would intuitively\n",
        "guess. Check that you still have the required information in the data after\n",
        "filtering (e.g. using plots). Again, try to use vectorized commands."
      ]
    },
    {
      "attachments": {},
      "cell_type": "markdown",
      "metadata": {},
      "source": [
        "# TODO: choose and run only 1 of the filters -> rolling mean and median create NaN values atm"
      ]
    },
    {
      "cell_type": "code",
      "execution_count": 961,
      "metadata": {},
      "outputs": [],
      "source": [
        "df_no_gesture = df.iloc[: , 1:]"
      ]
    },
    {
      "cell_type": "code",
      "execution_count": 962,
      "metadata": {},
      "outputs": [],
      "source": [
        "# rolling mean -> NaN values\n",
        "#df_filter = df_no_gesture.apply(func=lambda x: pd.Series(x).rolling(5).mean())"
      ]
    },
    {
      "cell_type": "code",
      "execution_count": 963,
      "metadata": {},
      "outputs": [],
      "source": [
        "# rolling median -> NaN values\n",
        "#df_filter = df_no_gesture.apply(func=lambda x: pd.Series(x).rolling(5).median())\n"
      ]
    },
    {
      "cell_type": "code",
      "execution_count": 964,
      "metadata": {},
      "outputs": [],
      "source": [
        "# scipy savgol -> looks kinda similar\n",
        "df_filter = df_no_gesture.apply(func=lambda x: savgol_filter(x, 5, 2))\n"
      ]
    },
    {
      "cell_type": "code",
      "execution_count": 965,
      "metadata": {},
      "outputs": [],
      "source": [
        "# scipy medfilt: median filter to the input array -> looks kinda similar to original\n",
        "#df_filter = df_no_gesture.apply(func=lambda x: medfilt(x))\n"
      ]
    },
    {
      "cell_type": "code",
      "execution_count": 966,
      "metadata": {},
      "outputs": [],
      "source": [
        "# scipy wiener -> looks really bad\n",
        "#df_filter = df_no_gesture.apply(func=lambda x: wiener(x))"
      ]
    },
    {
      "cell_type": "code",
      "execution_count": 967,
      "metadata": {},
      "outputs": [
        {
          "data": {
            "text/plain": [
              "0"
            ]
          },
          "execution_count": 967,
          "metadata": {},
          "output_type": "execute_result"
        }
      ],
      "source": [
        "df_filter.isnull().values.ravel().sum()"
      ]
    },
    {
      "cell_type": "code",
      "execution_count": 968,
      "metadata": {},
      "outputs": [],
      "source": [
        "df_filter.insert(loc=0, column='gesture', value=df['gesture'].to_numpy())\n",
        "df = df_filter\n",
        "#df.dropna() # for rolling mean or median"
      ]
    },
    {
      "attachments": {},
      "cell_type": "markdown",
      "metadata": {},
      "source": [
        "The filter XY has proven to be the best option .. for the data as the gestures seem well distinguishable.\n",
        "\n",
        "The filter with rolling mean and medium produced NaN values and therefore the number of samples would be reduced."
      ]
    },
    {
      "cell_type": "code",
      "execution_count": 969,
      "metadata": {},
      "outputs": [
        {
          "data": {
            "text/plain": [
              "<Figure size 432x288 with 0 Axes>"
            ]
          },
          "metadata": {},
          "output_type": "display_data"
        },
        {
          "data": {
            "text/plain": [
              "<Figure size 432x288 with 0 Axes>"
            ]
          },
          "metadata": {},
          "output_type": "display_data"
        },
        {
          "data": {
            "text/plain": [
              "<Figure size 432x288 with 0 Axes>"
            ]
          },
          "metadata": {},
          "output_type": "display_data"
        },
        {
          "data": {
            "text/plain": [
              "<Figure size 432x288 with 0 Axes>"
            ]
          },
          "metadata": {},
          "output_type": "display_data"
        },
        {
          "data": {
            "text/plain": [
              "<Figure size 432x288 with 0 Axes>"
            ]
          },
          "metadata": {},
          "output_type": "display_data"
        },
        {
          "data": {
            "text/plain": [
              "<Figure size 432x288 with 0 Axes>"
            ]
          },
          "metadata": {},
          "output_type": "display_data"
        },
        {
          "data": {
            "text/plain": [
              "<Figure size 432x288 with 0 Axes>"
            ]
          },
          "metadata": {},
          "output_type": "display_data"
        },
        {
          "data": {
            "text/plain": [
              "<Figure size 432x288 with 0 Axes>"
            ]
          },
          "metadata": {},
          "output_type": "display_data"
        }
      ],
      "source": [
        "for i, gest in enumerate(gestures):\n",
        "    plt.figure(i)\n",
        "    #visualize_gesture(gest)"
      ]
    },
    {
      "attachments": {},
      "cell_type": "markdown",
      "metadata": {},
      "source": [
        "### Features"
      ]
    },
    {
      "cell_type": "markdown",
      "metadata": {
        "id": "zMshhrX5u2zh"
      },
      "source": [
        "#### Interpolation - really needed?"
      ]
    },
    {
      "cell_type": "code",
      "execution_count": 970,
      "metadata": {},
      "outputs": [],
      "source": [
        "# really needed? - preprocessed file has same length?"
      ]
    },
    {
      "cell_type": "markdown",
      "metadata": {
        "id": "kRXB_62KvCsV"
      },
      "source": [
        "• If you plan on using acceleration values themselves as features, different\n",
        "lengths of recordings are going to be problematic. You can interpolate series to uniform length . Again, try to use vectorized commands. Be aware\n",
        "that with interpolation to a uniform amount of features you also lose the\n",
        "implicit information of how long the recording was (which was expressed\n",
        "by the amount of samples before). The length of the original recording\n",
        "can therefore become a numeric feature itself. Hint: you probably need\n",
        "less interpolated acceleration values than you would expect. Usually, human body motion can produce up to a max of about 20Hz of movement\n",
        "frequencies, so using e.g. 100Hz recordings does not necessarily add any\n",
        "information you can use. And the important acceleration information to\n",
        "distinguish gestures is likely well below 20Hz, so a couple of values per\n",
        "gestures probably already do the job."
      ]
    },
    {
      "cell_type": "markdown",
      "metadata": {
        "id": "5na_JZeTvE9p"
      },
      "source": [
        "Acceleration values of all axes can be used directly as one sample (concatenate all axis into one row)."
      ]
    },
    {
      "attachments": {},
      "cell_type": "markdown",
      "metadata": {},
      "source": [
        "#### Original length of recording as features"
      ]
    },
    {
      "attachments": {},
      "cell_type": "markdown",
      "metadata": {},
      "source": [
        "The length of the original recording should be added as a feature. The original data is available in the raw data files for each axis."
      ]
    },
    {
      "cell_type": "code",
      "execution_count": 971,
      "metadata": {},
      "outputs": [
        {
          "name": "stdout",
          "output_type": "stream",
          "text": [
            "Number of columns in raw data files: x=427, y=427, z=427\n"
          ]
        }
      ],
      "source": [
        "raw_x = pd.read_csv('raw_data_wear_x.csv', header=None)\n",
        "raw_y = pd.read_csv('raw_data_wear_y.csv', header=None)\n",
        "raw_z = pd.read_csv('raw_data_wear_z.csv', header=None)\n",
        "print('Number of columns in raw data files: x='+str(len(raw_x.columns)) +\n",
        "      \", y=\"+str(len(raw_y.columns))+\", z=\"+str(len(raw_z.columns)))\n"
      ]
    },
    {
      "attachments": {},
      "cell_type": "markdown",
      "metadata": {},
      "source": [
        "As all raw data files include the same number of columns, the length of the recordings are taken from raw_data_wear_x. The columns for gesture, person and sample are not relevant for the recording length and therefore removed from the count."
      ]
    },
    {
      "cell_type": "code",
      "execution_count": 972,
      "metadata": {},
      "outputs": [],
      "source": [
        "df[\"recording_length\"] = raw_x.count(axis='columns')-3"
      ]
    },
    {
      "cell_type": "markdown",
      "metadata": {
        "id": "HFzLL283vX8X"
      },
      "source": [
        "### Outliers"
      ]
    },
    {
      "attachments": {},
      "cell_type": "markdown",
      "metadata": {},
      "source": [
        "The outliers were set to the lower or upper limit instead of removing them to keep more information and improve the model performance."
      ]
    },
    {
      "cell_type": "code",
      "execution_count": 973,
      "metadata": {},
      "outputs": [
        {
          "name": "stdout",
          "output_type": "stream",
          "text": [
            "28 rows with outliers detected. Outliers were set to the lower or upper limit.\n"
          ]
        }
      ],
      "source": [
        "cols = df.columns.tolist()\n",
        "cols.remove('gesture')\n",
        "\n",
        "for col in cols:\n",
        "    q25 = df[col].quantile(0.25)\n",
        "    q75 = df[col].quantile(0.75)\n",
        "    intr_qr = q75-q25\n",
        "\n",
        "    q_hi = q75+(1.5*intr_qr)\n",
        "    q_low = q25-(1.5*intr_qr)\n",
        "\n",
        "    df.loc[df[col] < q_low, col] = q_low\n",
        "    df.loc[df[col] > q_hi, col] = q_hi\n",
        "    df_filtered = df[(df[col] < q_hi) & (df[col] > q_low)]\n",
        "\n",
        "print(str(len(df)-len(df_filtered)) +\n",
        "      ' rows with outliers detected. Outliers were set to the lower or upper limit.')"
      ]
    },
    {
      "attachments": {},
      "cell_type": "markdown",
      "metadata": {},
      "source": [
        "### Scaling"
      ]
    },
    {
      "attachments": {},
      "cell_type": "markdown",
      "metadata": {},
      "source": [
        "The data gets scaled with the StandardScaler to change the distribution by which removing the mean and scaling each feature to unit variance."
      ]
    },
    {
      "cell_type": "code",
      "execution_count": 974,
      "metadata": {},
      "outputs": [],
      "source": [
        "# uniformly scale data\n",
        "scaler = StandardScaler()\n",
        "y_gestures = df['gesture']\n",
        "X_transform = scaler.fit_transform(df.iloc[:, 1:].values)\n"
      ]
    },
    {
      "cell_type": "code",
      "execution_count": 975,
      "metadata": {},
      "outputs": [
        {
          "data": {
            "image/png": "[encoded data removed]",
            "text/plain": [
              "<Figure size 432x288 with 2 Axes>"
            ]
          },
          "metadata": {
            "needs_background": "light"
          },
          "output_type": "display_data"
        }
      ],
      "source": [
        "fig, (ax1, ax2) = plt.subplots(ncols=2)\n",
        "ax1.set_title(\"Data before scaling\")\n",
        "ax2.set_title(\"Data after scaling\")\n",
        "\n",
        "df.plot.density(ax=ax1, legend=False)\n",
        "df_scaled = pd.DataFrame(X_transform, columns=df.iloc[:, 1:].columns)\n",
        "df_scaled.plot.density(ax=ax2, legend=False);\n",
        "df = df_scaled\n",
        "df.insert(loc=0, column='gesture', value=y_gestures)"
      ]
    },
    {
      "attachments": {},
      "cell_type": "markdown",
      "metadata": {},
      "source": [
        "### Other features"
      ]
    },
    {
      "cell_type": "code",
      "execution_count": 976,
      "metadata": {},
      "outputs": [],
      "source": [
        "x_data = df.iloc[:, 1:21]\n",
        "y_data = df.iloc[:, 21:41]\n",
        "z_data = df.iloc[:, 41:61]\n",
        "\n",
        "axis_data = [{\"name\": \"x\", \"data\": x_data}, {\n",
        "    \"name\": \"y\", \"data\": y_data}, {\"name\": \"z\", \"data\": z_data}]"
      ]
    },
    {
      "attachments": {},
      "cell_type": "markdown",
      "metadata": {},
      "source": [
        "#### Magnitude for each step"
      ]
    },
    {
      "cell_type": "code",
      "execution_count": 977,
      "metadata": {},
      "outputs": [],
      "source": [
        "mag_data = pd.DataFrame()\n",
        "for i in range(20):\n",
        "    mag_list = []\n",
        "    for j in range(len(x_data)):\n",
        "        x = x_data.iloc[j].values[i]\n",
        "        y = y_data.iloc[j].values[i]\n",
        "        z = z_data.iloc[j].values[i]\n",
        "        mag_list.append(np.sqrt(x**2 + y**2 + z**2))\n",
        "    mag_data[\"MAG\"+str(i+1)] = mag_list"
      ]
    },
    {
      "attachments": {},
      "cell_type": "markdown",
      "metadata": {},
      "source": [
        "#### Mean Magnitude"
      ]
    },
    {
      "cell_type": "code",
      "execution_count": 978,
      "metadata": {},
      "outputs": [],
      "source": [
        "df['mean_mag'] = mag_data.mean(axis=1)"
      ]
    },
    {
      "attachments": {},
      "cell_type": "markdown",
      "metadata": {},
      "source": [
        "#### Minimum Magnitude"
      ]
    },
    {
      "cell_type": "code",
      "execution_count": 979,
      "metadata": {},
      "outputs": [],
      "source": [
        "df['min_mag'] = mag_data.min(axis=1)"
      ]
    },
    {
      "attachments": {},
      "cell_type": "markdown",
      "metadata": {},
      "source": [
        "#### Maximum Magnitude"
      ]
    },
    {
      "cell_type": "code",
      "execution_count": 980,
      "metadata": {},
      "outputs": [],
      "source": [
        "df['max_mag'] = mag_data.max(axis=1)"
      ]
    },
    {
      "attachments": {},
      "cell_type": "markdown",
      "metadata": {},
      "source": [
        "#### Range of Magnitude"
      ]
    },
    {
      "cell_type": "code",
      "execution_count": 981,
      "metadata": {},
      "outputs": [],
      "source": [
        "df['max_mag'] = abs(mag_data.max(axis=1) - mag_data.min(axis=1))"
      ]
    },
    {
      "attachments": {},
      "cell_type": "markdown",
      "metadata": {},
      "source": [
        "#### Mean"
      ]
    },
    {
      "cell_type": "code",
      "execution_count": 982,
      "metadata": {},
      "outputs": [],
      "source": [
        "df['mean_x'] = df.iloc[:, 1:21].mean(axis=1)\n",
        "df['mean_y'] = df.iloc[:, 21:41].mean(axis=1)\n",
        "df['mean_z'] = df.iloc[:, 41:61].mean(axis=1)"
      ]
    },
    {
      "attachments": {},
      "cell_type": "markdown",
      "metadata": {},
      "source": [
        "#### Mean Absolute Deviation"
      ]
    },
    {
      "cell_type": "code",
      "execution_count": 983,
      "metadata": {},
      "outputs": [],
      "source": [
        "df['mad_x'] = df.iloc[:, 1:21].mad(axis=1)\n",
        "df['mad_y'] = df.iloc[:, 21:41].mad(axis=1)\n",
        "df['mad_z'] = df.iloc[:, 41:61].mad(axis=1)"
      ]
    },
    {
      "attachments": {},
      "cell_type": "markdown",
      "metadata": {},
      "source": [
        "##### Variance features"
      ]
    },
    {
      "cell_type": "code",
      "execution_count": 984,
      "metadata": {},
      "outputs": [],
      "source": [
        "for axis in axis_data:\n",
        "    variance_arr = axis.get('data').var(axis=1)\n",
        "    df['variance_'+axis.get('name')] = variance_arr\n",
        "\n",
        "df['mean_variance'] = df.iloc[:,-3:].mean(axis=1)\n"
      ]
    },
    {
      "attachments": {},
      "cell_type": "markdown",
      "metadata": {},
      "source": [
        "##### Standard deviation features"
      ]
    },
    {
      "cell_type": "code",
      "execution_count": 985,
      "metadata": {},
      "outputs": [],
      "source": [
        "for axis in axis_data:\n",
        "    sd_arr = axis.get('data').var(axis=1)\n",
        "    df['sd_'+axis.get('name')] = sd_arr\n",
        "\n",
        "df['mean_sd'] = df.iloc[:,-3:].mean(axis=1)"
      ]
    },
    {
      "attachments": {},
      "cell_type": "markdown",
      "metadata": {},
      "source": [
        "#### Frequency power and phase"
      ]
    },
    {
      "attachments": {},
      "cell_type": "markdown",
      "metadata": {},
      "source": [
        "#### Autocorrelation of acceleration values"
      ]
    },
    {
      "attachments": {},
      "cell_type": "markdown",
      "metadata": {},
      "source": [
        "#### Wavelet components"
      ]
    },
    {
      "attachments": {},
      "cell_type": "markdown",
      "metadata": {},
      "source": [
        "https://hcis-journal.springeropen.com/articles/10.1186/s13673-017-0097-2"
      ]
    },
    {
      "attachments": {},
      "cell_type": "markdown",
      "metadata": {},
      "source": [
        "https://ataspinar.com/2018/04/04/machine-learning-with-signal-processing-techniques/"
      ]
    },
    {
      "cell_type": "markdown",
      "metadata": {
        "id": "zLdTqcorvKrC"
      },
      "source": [
        "Feature extraction is not limited to those discussed in the lecture. But for\n",
        "a start:\n",
        "– Frequency power and phase\n",
        "– Autocorrelation of acceleration values\n",
        "– Wavelet components\n",
        "– All of the above can be applied on the integrations of acceleration as\n",
        "well (position <–> speed <–> acceleration)."
      ]
    },
    {
      "attachments": {},
      "cell_type": "markdown",
      "metadata": {},
      "source": [
        "### PCA"
      ]
    },
    {
      "attachments": {},
      "cell_type": "markdown",
      "metadata": {},
      "source": [
        "This plot shows the explained variance ratio when X% of variance is kept. X% was chosen because otherwise the model performance would decrease too much.\n",
        "Feature reduction with PCA wil be applied later when training the models using a pipeline."
      ]
    },
    {
      "cell_type": "code",
      "execution_count": 986,
      "metadata": {},
      "outputs": [
        {
          "data": {
            "image/png": "[encoded data removed]",
            "text/plain": [
              "<Figure size 432x288 with 1 Axes>"
            ]
          },
          "metadata": {
            "needs_background": "light"
          },
          "output_type": "display_data"
        }
      ],
      "source": [
        "pca = PCA(n_components=0.95)\n",
        "X_pca = pca.fit(X_transform)\n",
        "plt.plot(np.cumsum(pca.explained_variance_ratio_), color=pltcolor)\n",
        "plt.xlabel('Number of components')\n",
        "plt.ylabel('Cumulative explained variance')\n",
        "plt.show()"
      ]
    },
    {
      "attachments": {},
      "cell_type": "markdown",
      "metadata": {},
      "source": [
        "PCA with X% variance means Y components in this case."
      ]
    },
    {
      "cell_type": "code",
      "execution_count": 987,
      "metadata": {},
      "outputs": [
        {
          "data": {
            "text/plain": [
              "(2160, 34)"
            ]
          },
          "execution_count": 987,
          "metadata": {},
          "output_type": "execute_result"
        }
      ],
      "source": [
        "X_pca = pca.transform(X_transform)\n",
        "X_pca.shape"
      ]
    },
    {
      "cell_type": "code",
      "execution_count": 988,
      "metadata": {},
      "outputs": [
        {
          "data": {
            "image/png": "[encoded data removed]",
            "text/plain": [
              "<Figure size 432x288 with 1 Axes>"
            ]
          },
          "metadata": {
            "needs_background": "light"
          },
          "output_type": "display_data"
        }
      ],
      "source": [
        "plt.plot(X_pca)\n",
        "plt.xlabel('Observation')\n",
        "plt.ylabel('Transformed data')\n",
        "plt.title('Transformed data by principal components (X%)');"
      ]
    },
    {
      "cell_type": "markdown",
      "metadata": {
        "id": "AnD1i2KMmmUQ"
      },
      "source": [
        "# Models"
      ]
    },
    {
      "cell_type": "code",
      "execution_count": 989,
      "metadata": {},
      "outputs": [],
      "source": [
        "# split dataset in train and test data\n",
        "X = df.values[:,1:]\n",
        "Y = df.values[:,0:1]\n",
        "\n",
        "X_train, X_test, y_train, y_test = train_test_split(\n",
        "    X, y_gestures, test_size=0.2)"
      ]
    },
    {
      "cell_type": "code",
      "execution_count": 990,
      "metadata": {},
      "outputs": [],
      "source": [
        "def print_model_result(predicted_labels):\n",
        "    print(\"Recall: \", recall_score(y_test, predicted_labels, average=None))\n",
        "    print(\"Recall Average: \", recall_score(\n",
        "        y_test, predicted_labels, average=\"micro\"))\n",
        "    print(\"Precision: \", precision_score(\n",
        "        y_test, predicted_labels, average=None))\n",
        "    print(\"Precision Average: \", precision_score(\n",
        "        y_test, predicted_labels, average=\"micro\"))\n",
        "    print(\"F1-Score: \", f1_score(y_test, predicted_labels, average=None))\n",
        "    print(\"Accuracy: %.2f  ,\" % accuracy_score(y_test, predicted_labels,\n",
        "          normalize=True), accuracy_score(y_test, predicted_labels, normalize=False))\n",
        "\n",
        "    print(\"Number of samples:\", y_test.shape[0])\n",
        "    ConfusionMatrixDisplay(confusion_matrix(\n",
        "        y_test, predicted_labels), display_labels=gestures).plot(cmap=\"Blues\")"
      ]
    },
    {
      "attachments": {},
      "cell_type": "markdown",
      "metadata": {},
      "source": [
        "### KNN"
      ]
    },
    {
      "cell_type": "code",
      "execution_count": 991,
      "metadata": {},
      "outputs": [],
      "source": [
        "knn_hyperparameters = list(range(1, 31))"
      ]
    },
    {
      "cell_type": "code",
      "execution_count": 992,
      "metadata": {},
      "outputs": [
        {
          "name": "stdout",
          "output_type": "stream",
          "text": [
            "Fitting 10 folds for each of 30 candidates, totalling 300 fits\n"
          ]
        }
      ],
      "source": [
        "knn = KNeighborsClassifier()\n",
        "param_grid = dict(n_neighbors=knn_hyperparameters)\n",
        "\n",
        "# defining parameter range\n",
        "grid = GridSearchCV(KNeighborsClassifier(), param_grid, cv=10,\n",
        "                    scoring='accuracy',\n",
        "                    return_train_score=False, verbose=1, n_jobs=-1)\n",
        "\n",
        "# fitting the model for grid search\n",
        "grid_search = grid.fit(X_train, y_train)\n"
      ]
    },
    {
      "cell_type": "code",
      "execution_count": 993,
      "metadata": {},
      "outputs": [
        {
          "name": "stdout",
          "output_type": "stream",
          "text": [
            "Best params: {'n_neighbors': 5}\n",
            "Accuracy for our training dataset with tuning is : 84.20%\n"
          ]
        }
      ],
      "source": [
        "accuracy = grid_search.best_score_ * 100\n",
        "print(\"Best params: \"+str(grid_search.best_params_))\n",
        "print(\"Accuracy for our training dataset with tuning is : {:.2f}%\"\\\n",
        "    .format(accuracy))"
      ]
    },
    {
      "cell_type": "code",
      "execution_count": 994,
      "metadata": {},
      "outputs": [
        {
          "name": "stdout",
          "output_type": "stream",
          "text": [
            "Recall:  [0.9        0.921875   0.86538462 0.92537313 0.81081081 0.78571429\n",
            " 0.84444444 0.62745098]\n",
            "Recall Average:  0.8425925925925926\n",
            "Precision:  [0.85714286 0.85507246 0.83333333 0.86111111 0.58823529 0.97777778\n",
            " 0.9047619  0.88888889]\n",
            "Precision Average:  0.8425925925925926\n",
            "F1-Score:  [0.87804878 0.88721805 0.8490566  0.89208633 0.68181818 0.87128713\n",
            " 0.87356322 0.73563218]\n",
            "Accuracy: 0.84  , 364\n",
            "Number of samples: 432\n"
          ]
        },
        {
          "data": {
            "image/png": "[encoded data removed]",
            "text/plain": [
              "<Figure size 432x288 with 2 Axes>"
            ]
          },
          "metadata": {
            "needs_background": "light"
          },
          "output_type": "display_data"
        }
      ],
      "source": [
        "predicted_labels = grid_search.best_estimator_.predict(X_test)\n",
        "predicted_labels_knn = predicted_labels\n",
        "\n",
        "best_knn_model = grid_search.best_estimator_\n",
        "gs_knn = grid_search\n",
        "\n",
        "print_model_result(predicted_labels)"
      ]
    },
    {
      "attachments": {},
      "cell_type": "markdown",
      "metadata": {},
      "source": [
        "### Random Forest"
      ]
    },
    {
      "cell_type": "code",
      "execution_count": 995,
      "metadata": {},
      "outputs": [],
      "source": [
        "tuning_params_rf = {\n",
        "    'max_depth': [30, 40, 50, 60],\n",
        "    'max_features': ['sqrt'],\n",
        "    'min_samples_leaf': [1, 2, 4],\n",
        "    'min_samples_split': [2, 5, 10],\n",
        "    'n_estimators': [200, 400, 600]}\n",
        "\n",
        "\n",
        "param_grid_rf = {}\n",
        "\n",
        "for key, value in tuning_params_rf.items():\n",
        "    hyperparam_key = \"classify__\" + key\n",
        "    param_grid_rf[hyperparam_key] = value"
      ]
    },
    {
      "cell_type": "code",
      "execution_count": 996,
      "metadata": {},
      "outputs": [],
      "source": [
        "gs = GridSearchCV(RandomForestClassifier(), param_grid=tuning_params_rf,\n",
        "                  cv=10, scoring=\"accuracy\", n_jobs=-1)\n",
        "gs.fit(X_train, y_train);"
      ]
    },
    {
      "cell_type": "code",
      "execution_count": 997,
      "metadata": {},
      "outputs": [
        {
          "name": "stdout",
          "output_type": "stream",
          "text": [
            "Best parameters: {'max_depth': 50, 'max_features': 'sqrt', 'min_samples_leaf': 1, 'min_samples_split': 2, 'n_estimators': 200}\n",
            "Best accuracy score: 0.8825346148675897\n",
            "Importances of the features:  [0.00761535 0.00829514 0.00601379 0.00786632 0.00628999 0.0094729\n",
            " 0.00718276 0.0066741  0.01112416 0.0123391  0.0084275  0.00883161\n",
            " 0.00973792 0.0073988  0.00906073 0.01068275 0.00963924 0.01255877\n",
            " 0.0087804  0.00706802 0.00616807 0.00656131 0.00949497 0.00691669\n",
            " 0.01282524 0.01039292 0.00878681 0.01402384 0.01664858 0.01132033\n",
            " 0.0083226  0.02556632 0.02547283 0.01588548 0.01870845 0.02891055\n",
            " 0.02967648 0.0185323  0.00656087 0.00640041 0.00824089 0.00534032\n",
            " 0.00549768 0.00646254 0.01566564 0.02051731 0.01923036 0.01224284\n",
            " 0.00844782 0.01632549 0.01766319 0.01149046 0.02666275 0.02497003\n",
            " 0.02149478 0.02432047 0.02024529 0.00631342 0.0057287  0.00810972\n",
            " 0.0844358  0.00805754 0.00569124 0.00538225 0.00699418 0.00602092\n",
            " 0.00643588 0.00654576 0.01046236 0.02058825 0.00684544 0.01170304\n",
            " 0.02129715 0.00708024 0.00641271 0.01059042 0.02098556 0.00726717]\n"
          ]
        }
      ],
      "source": [
        "print('Best parameters: '+str(gs.best_params_))\n",
        "print('Best accuracy score: '+str(gs.best_score_))\n",
        "print('Importances of the features: ', gs.best_estimator_.feature_importances_)"
      ]
    },
    {
      "attachments": {},
      "cell_type": "markdown",
      "metadata": {},
      "source": [
        "**X most important features**\n"
      ]
    },
    {
      "cell_type": "code",
      "execution_count": 998,
      "metadata": {},
      "outputs": [
        {
          "data": {
            "image/png": "[encoded data removed]",
            "text/plain": [
              "<Figure size 432x288 with 1 Axes>"
            ]
          },
          "metadata": {
            "needs_background": "light"
          },
          "output_type": "display_data"
        }
      ],
      "source": [
        "feature_importances = pd.Series(gs.best_estimator_.feature_importances_, index=df.iloc[:, 1:].columns)\n",
        "feature_importances.nlargest(20).plot(kind='barh');"
      ]
    },
    {
      "cell_type": "code",
      "execution_count": 999,
      "metadata": {},
      "outputs": [
        {
          "name": "stdout",
          "output_type": "stream",
          "text": [
            "Recall:  [0.9        0.875      0.84615385 0.86567164 0.83783784 0.94642857\n",
            " 0.88888889 0.76470588]\n",
            "Recall Average:  0.8680555555555556\n",
            "Precision:  [0.9        0.88888889 0.88       0.90625    0.75609756 0.86885246\n",
            " 0.88888889 0.8125    ]\n",
            "Precision Average:  0.8680555555555556\n",
            "F1-Score:  [0.9        0.88188976 0.8627451  0.88549618 0.79487179 0.90598291\n",
            " 0.88888889 0.78787879]\n",
            "Accuracy: 0.87  , 375\n",
            "Number of samples: 432\n"
          ]
        },
        {
          "data": {
            "image/png": "[encoded data removed]",
            "text/plain": [
              "<Figure size 432x288 with 2 Axes>"
            ]
          },
          "metadata": {
            "needs_background": "light"
          },
          "output_type": "display_data"
        }
      ],
      "source": [
        "predicted_labels = gs.best_estimator_.predict(X_test)\n",
        "\n",
        "best_rf_model = grid_search.best_estimator_\n",
        "predicted_labels_rf = predicted_labels\n",
        "gs_rf = gs\n",
        "\n",
        "print_model_result(predicted_labels)"
      ]
    },
    {
      "attachments": {},
      "cell_type": "markdown",
      "metadata": {},
      "source": [
        "### SVM"
      ]
    },
    {
      "cell_type": "code",
      "execution_count": 1000,
      "metadata": {},
      "outputs": [],
      "source": [
        "tuning_params_svm = {\"C\": [0.001, 0.01, 0.1, 1, 10],\n",
        "                     \"gamma\": [0.001, 0.01, 0.1, 1, 10], \"kernel\": ['rbf']}\n",
        "param_grid_svm = {}\n",
        "\n",
        "for key, value in tuning_params_svm.items():\n",
        "    hyperparam_key = \"classify__\" + key\n",
        "    param_grid_svm[hyperparam_key] = value\n"
      ]
    },
    {
      "cell_type": "code",
      "execution_count": 1001,
      "metadata": {},
      "outputs": [
        {
          "data": {
            "text/html": [
              "<style>#sk-container-id-6 {color: black;background-color: white;}#sk-container-id-6 pre{padding: 0;}#sk-container-id-6 div.sk-toggleable {background-color: white;}#sk-container-id-6 label.sk-toggleable__label {cursor: pointer;display: block;width: 100%;margin-bottom: 0;padding: 0.3em;box-sizing: border-box;text-align: center;}#sk-container-id-6 label.sk-toggleable__label-arrow:before {content: \"▸\";float: left;margin-right: 0.25em;color: #696969;}#sk-container-id-6 label.sk-toggleable__label-arrow:hover:before {color: black;}#sk-container-id-6 div.sk-estimator:hover label.sk-toggleable__label-arrow:before {color: black;}#sk-container-id-6 div.sk-toggleable__content {max-height: 0;max-width: 0;overflow: hidden;text-align: left;background-color: #f0f8ff;}#sk-container-id-6 div.sk-toggleable__content pre {margin: 0.2em;color: black;border-radius: 0.25em;background-color: #f0f8ff;}#sk-container-id-6 input.sk-toggleable__control:checked~div.sk-toggleable__content {max-height: 200px;max-width: 100%;overflow: auto;}#sk-container-id-6 input.sk-toggleable__control:checked~label.sk-toggleable__label-arrow:before {content: \"▾\";}#sk-container-id-6 div.sk-estimator input.sk-toggleable__control:checked~label.sk-toggleable__label {background-color: #d4ebff;}#sk-container-id-6 div.sk-label input.sk-toggleable__control:checked~label.sk-toggleable__label {background-color: #d4ebff;}#sk-container-id-6 input.sk-hidden--visually {border: 0;clip: rect(1px 1px 1px 1px);clip: rect(1px, 1px, 1px, 1px);height: 1px;margin: -1px;overflow: hidden;padding: 0;position: absolute;width: 1px;}#sk-container-id-6 div.sk-estimator {font-family: monospace;background-color: #f0f8ff;border: 1px dotted black;border-radius: 0.25em;box-sizing: border-box;margin-bottom: 0.5em;}#sk-container-id-6 div.sk-estimator:hover {background-color: #d4ebff;}#sk-container-id-6 div.sk-parallel-item::after {content: \"\";width: 100%;border-bottom: 1px solid gray;flex-grow: 1;}#sk-container-id-6 div.sk-label:hover label.sk-toggleable__label {background-color: #d4ebff;}#sk-container-id-6 div.sk-serial::before {content: \"\";position: absolute;border-left: 1px solid gray;box-sizing: border-box;top: 0;bottom: 0;left: 50%;z-index: 0;}#sk-container-id-6 div.sk-serial {display: flex;flex-direction: column;align-items: center;background-color: white;padding-right: 0.2em;padding-left: 0.2em;position: relative;}#sk-container-id-6 div.sk-item {position: relative;z-index: 1;}#sk-container-id-6 div.sk-parallel {display: flex;align-items: stretch;justify-content: center;background-color: white;position: relative;}#sk-container-id-6 div.sk-item::before, #sk-container-id-6 div.sk-parallel-item::before {content: \"\";position: absolute;border-left: 1px solid gray;box-sizing: border-box;top: 0;bottom: 0;left: 50%;z-index: -1;}#sk-container-id-6 div.sk-parallel-item {display: flex;flex-direction: column;z-index: 1;position: relative;background-color: white;}#sk-container-id-6 div.sk-parallel-item:first-child::after {align-self: flex-end;width: 50%;}#sk-container-id-6 div.sk-parallel-item:last-child::after {align-self: flex-start;width: 50%;}#sk-container-id-6 div.sk-parallel-item:only-child::after {width: 0;}#sk-container-id-6 div.sk-dashed-wrapped {border: 1px dashed gray;margin: 0 0.4em 0.5em 0.4em;box-sizing: border-box;padding-bottom: 0.4em;background-color: white;}#sk-container-id-6 div.sk-label label {font-family: monospace;font-weight: bold;display: inline-block;line-height: 1.2em;}#sk-container-id-6 div.sk-label-container {text-align: center;}#sk-container-id-6 div.sk-container {/* jupyter's `normalize.less` sets `[hidden] { display: none; }` but bootstrap.min.css set `[hidden] { display: none !important; }` so we also need the `!important` here to be able to override the default hidden behavior on the sphinx rendered scikit-learn.org. See: https://github.com/scikit-learn/scikit-learn/issues/21755 */display: inline-block !important;position: relative;}#sk-container-id-6 div.sk-text-repr-fallback {display: none;}</style><div id=\"sk-container-id-6\" class=\"sk-top-container\"><div class=\"sk-text-repr-fallback\"><pre>GridSearchCV(cv=10, estimator=SVC(), n_jobs=-1,\n",
              "             param_grid={&#x27;C&#x27;: [0.001, 0.01, 0.1, 1, 10],\n",
              "                         &#x27;gamma&#x27;: [0.001, 0.01, 0.1, 1, 10],\n",
              "                         &#x27;kernel&#x27;: [&#x27;rbf&#x27;]},\n",
              "             scoring=&#x27;accuracy&#x27;)</pre><b>In a Jupyter environment, please rerun this cell to show the HTML representation or trust the notebook. <br />On GitHub, the HTML representation is unable to render, please try loading this page with nbviewer.org.</b></div><div class=\"sk-container\" hidden><div class=\"sk-item sk-dashed-wrapped\"><div class=\"sk-label-container\"><div class=\"sk-label sk-toggleable\"><input class=\"sk-toggleable__control sk-hidden--visually\" id=\"sk-estimator-id-16\" type=\"checkbox\" ><label for=\"sk-estimator-id-16\" class=\"sk-toggleable__label sk-toggleable__label-arrow\">GridSearchCV</label><div class=\"sk-toggleable__content\"><pre>GridSearchCV(cv=10, estimator=SVC(), n_jobs=-1,\n",
              "             param_grid={&#x27;C&#x27;: [0.001, 0.01, 0.1, 1, 10],\n",
              "                         &#x27;gamma&#x27;: [0.001, 0.01, 0.1, 1, 10],\n",
              "                         &#x27;kernel&#x27;: [&#x27;rbf&#x27;]},\n",
              "             scoring=&#x27;accuracy&#x27;)</pre></div></div></div><div class=\"sk-parallel\"><div class=\"sk-parallel-item\"><div class=\"sk-item\"><div class=\"sk-label-container\"><div class=\"sk-label sk-toggleable\"><input class=\"sk-toggleable__control sk-hidden--visually\" id=\"sk-estimator-id-17\" type=\"checkbox\" ><label for=\"sk-estimator-id-17\" class=\"sk-toggleable__label sk-toggleable__label-arrow\">estimator: SVC</label><div class=\"sk-toggleable__content\"><pre>SVC()</pre></div></div></div><div class=\"sk-serial\"><div class=\"sk-item\"><div class=\"sk-estimator sk-toggleable\"><input class=\"sk-toggleable__control sk-hidden--visually\" id=\"sk-estimator-id-18\" type=\"checkbox\" ><label for=\"sk-estimator-id-18\" class=\"sk-toggleable__label sk-toggleable__label-arrow\">SVC</label><div class=\"sk-toggleable__content\"><pre>SVC()</pre></div></div></div></div></div></div></div></div></div></div>"
            ],
            "text/plain": [
              "GridSearchCV(cv=10, estimator=SVC(), n_jobs=-1,\n",
              "             param_grid={'C': [0.001, 0.01, 0.1, 1, 10],\n",
              "                         'gamma': [0.001, 0.01, 0.1, 1, 10],\n",
              "                         'kernel': ['rbf']},\n",
              "             scoring='accuracy')"
            ]
          },
          "execution_count": 1001,
          "metadata": {},
          "output_type": "execute_result"
        }
      ],
      "source": [
        "gs = GridSearchCV(SVC(), param_grid=tuning_params_svm,\n",
        "                  cv=10, scoring=\"accuracy\", n_jobs=-1)\n",
        "gs.fit(X_train, y_train)"
      ]
    },
    {
      "cell_type": "code",
      "execution_count": 1002,
      "metadata": {},
      "outputs": [
        {
          "name": "stdout",
          "output_type": "stream",
          "text": [
            "Best parameters: {'C': 10, 'gamma': 0.01, 'kernel': 'rbf'}\n",
            "Best accuracy score: 0.9178316978088453\n"
          ]
        }
      ],
      "source": [
        "print('Best parameters: '+str(gs.best_params_))\n",
        "print('Best accuracy score: '+str(gs.best_score_))"
      ]
    },
    {
      "cell_type": "code",
      "execution_count": 1003,
      "metadata": {},
      "outputs": [
        {
          "name": "stdout",
          "output_type": "stream",
          "text": [
            "Recall:  [0.93333333 0.96875    0.88461538 0.92537313 0.89189189 0.94642857\n",
            " 0.95555556 0.8627451 ]\n",
            "Recall Average:  0.9236111111111112\n",
            "Precision:  [0.91803279 0.93939394 0.93877551 0.91176471 0.78571429 0.98148148\n",
            " 0.95555556 0.93617021]\n",
            "Precision Average:  0.9236111111111112\n",
            "F1-Score:  [0.92561983 0.95384615 0.91089109 0.91851852 0.83544304 0.96363636\n",
            " 0.95555556 0.89795918]\n",
            "Accuracy: 0.92  , 399\n",
            "Number of samples: 432\n"
          ]
        },
        {
          "data": {
            "image/png": "[encoded data removed]",
            "text/plain": [
              "<Figure size 432x288 with 2 Axes>"
            ]
          },
          "metadata": {
            "needs_background": "light"
          },
          "output_type": "display_data"
        }
      ],
      "source": [
        "predicted_labels = gs.best_estimator_.predict(X_test)\n",
        "predicted_labels_svm = predicted_labels\n",
        "gs_svm = gs\n",
        "\n",
        "best_svm_model = gs.best_estimator_\n",
        "\n",
        "print_model_result(predicted_labels)"
      ]
    },
    {
      "attachments": {},
      "cell_type": "markdown",
      "metadata": {},
      "source": [
        "### PCA"
      ]
    },
    {
      "cell_type": "code",
      "execution_count": 1004,
      "metadata": {},
      "outputs": [],
      "source": [
        "# Initialze the estimators\n",
        "clf1 = KNeighborsClassifier()\n",
        "clf2 = RandomForestClassifier()\n",
        "clf3 = SVC()"
      ]
    },
    {
      "cell_type": "code",
      "execution_count": 1005,
      "metadata": {},
      "outputs": [],
      "source": [
        "# hyperparameters for each dictionary\n",
        "param1 = {}\n",
        "param1['classifier__n_neighbors'] = knn_hyperparameters\n",
        "param1['classifier'] = [clf1]\n",
        "\n",
        "param2 = {}\n",
        "param2['classifier__max_depth'] = tuning_params_rf.get('max_depth')\n",
        "param2['classifier__max_features'] = tuning_params_rf.get('max_features')\n",
        "param2['classifier__min_samples_leaf'] = tuning_params_rf.get(\n",
        "    'min_samples_leaf')\n",
        "param2['classifier__min_samples_split'] = tuning_params_rf.get(\n",
        "    'min_samples_split')\n",
        "param2['classifier__n_estimators'] = tuning_params_rf.get('n_estimators')\n",
        "param2['classifier'] = [clf2]\n",
        "\n",
        "param3 = {}\n",
        "param3['classifier__C'] = tuning_params_svm.get('C')\n",
        "param3['classifier__gamma'] = tuning_params_svm.get('gamma')\n",
        "param3['classifier__kernel'] = tuning_params_svm.get('kernel')\n",
        "param3['classifier'] = [clf3]"
      ]
    },
    {
      "cell_type": "code",
      "execution_count": 1006,
      "metadata": {},
      "outputs": [],
      "source": [
        "pipe = Pipeline([\n",
        "    ('normalization', StandardScaler()),\n",
        "    ('pca', PCA(n_components=0.95)),\n",
        "    ('classifier', clf1)\n",
        "])\n",
        "params = [param1, param2, param3]"
      ]
    },
    {
      "cell_type": "code",
      "execution_count": 1007,
      "metadata": {},
      "outputs": [],
      "source": [
        "# pca grid search\n",
        "gs_pca = GridSearchCV(pipe, params, cv=10, n_jobs=-1,\n",
        "                      scoring='accuracy').fit(X_train, y_train)"
      ]
    },
    {
      "cell_type": "code",
      "execution_count": 1008,
      "metadata": {},
      "outputs": [
        {
          "name": "stdout",
          "output_type": "stream",
          "text": [
            "Best classifier and parameters: {'classifier': SVC(C=10, gamma=0.01), 'classifier__C': 10, 'classifier__gamma': 0.01, 'classifier__kernel': 'rbf'}\n",
            "Best accuracy score: 0.9132141416857105\n",
            "Best estimator explained variance: [13.99991286  8.23144021  5.86738525  5.09827238  4.10669142  3.51781659\n",
            "  3.27876697  2.54371301  2.33478598  2.10124338  1.87542243  1.78403946\n",
            "  1.62000284  1.55330496  1.47341608  1.26282362  1.24564805  1.06661323\n",
            "  1.02150288  0.97724821  0.92229629  0.89697336  0.84029869  0.75795474\n",
            "  0.69312096  0.66775957  0.66364408  0.57080977  0.51466403  0.48369183\n",
            "  0.44083317  0.43404278  0.38649368  0.35480654  0.32979163  0.31863618]\n"
          ]
        }
      ],
      "source": [
        "print('Best classifier and parameters: '+str(gs_pca.best_params_))\n",
        "print('Best accuracy score: '+str(gs_pca.best_score_))\n",
        "print('Best estimator explained variance: ' +\n",
        "      str(gs_pca.best_estimator_.steps[1][1].explained_variance_))"
      ]
    },
    {
      "cell_type": "code",
      "execution_count": 1009,
      "metadata": {},
      "outputs": [
        {
          "name": "stdout",
          "output_type": "stream",
          "text": [
            "Recall:  [0.93333333 0.953125   0.86538462 0.94029851 0.89189189 0.94642857\n",
            " 0.93333333 0.84313725]\n",
            "Recall Average:  0.9166666666666666\n",
            "Precision:  [0.91803279 0.93846154 0.9375     0.91304348 0.78571429 0.94642857\n",
            " 0.93333333 0.93478261]\n",
            "Precision Average:  0.9166666666666666\n",
            "F1-Score:  [0.92561983 0.94573643 0.9        0.92647059 0.83544304 0.94642857\n",
            " 0.93333333 0.88659794]\n",
            "Accuracy: 0.92  , 396\n",
            "Number of samples: 432\n"
          ]
        },
        {
          "data": {
            "image/png": "[encoded data removed]",
            "text/plain": [
              "<Figure size 432x288 with 2 Axes>"
            ]
          },
          "metadata": {
            "needs_background": "light"
          },
          "output_type": "display_data"
        }
      ],
      "source": [
        "predicted_labels_pca = gs_pca.best_estimator_.predict(X_test)\n",
        "best_pca_model = gs_pca.best_estimator_\n",
        "print_model_result(predicted_labels_pca)"
      ]
    },
    {
      "cell_type": "markdown",
      "metadata": {
        "id": "C3BlogyruUxN"
      },
      "source": [
        "Do a gallery dependent data partitioning and train models using\n",
        "cross validation. Compare different models and feature extraction approaches by their cross validation results, and for the selected “best”\n",
        "model show at least the confusion matrix for held-back test partition over different gestures. Discuss what the best feature extraction/model configuration is you found, and if there are gestures that\n",
        "are harder to distinguish than others.\n",
        "\n",
        "\n",
        "– **Bonus objective**: do gallery independent data partitioning instead\n",
        "using leave subject out cross validation (LSOCV, see slides)."
      ]
    },
    {
      "cell_type": "markdown",
      "metadata": {
        "id": "B3-yqlz80Ws5"
      },
      "source": [
        "Paper: KNN, J48 tree, random forest, bagging with 10 fold CV with 10 repetitions and leave-on-subject-out cross validation"
      ]
    },
    {
      "attachments": {},
      "cell_type": "markdown",
      "metadata": {
        "id": "htICkPA8mnmi"
      },
      "source": [
        "## Final Result"
      ]
    },
    {
      "attachments": {},
      "cell_type": "markdown",
      "metadata": {},
      "source": [
        "### Model comparison"
      ]
    },
    {
      "cell_type": "code",
      "execution_count": 1010,
      "metadata": {},
      "outputs": [],
      "source": [
        "model_names = [\n",
        "    'KNN',\n",
        "    'Random Forest',\n",
        "    'SVM',\n",
        "    'PCA SVM'\n",
        "]"
      ]
    },
    {
      "attachments": {},
      "cell_type": "markdown",
      "metadata": {},
      "source": [
        "#### Best score after training"
      ]
    },
    {
      "cell_type": "code",
      "execution_count": 1011,
      "metadata": {
        "id": "9_idSp9vmpA9"
      },
      "outputs": [
        {
          "name": "stdout",
          "output_type": "stream",
          "text": [
            "KNN: Best accuracy: 0.8420318591208495\n",
            "Random Forest: Best accuracy: 0.8825346148675897\n",
            "SVM: Best accuracy: 0.9178316978088453\n",
            "PCA SVM: Best accuracy: 0.9132141416857105\n"
          ]
        }
      ],
      "source": [
        "model_gs = [\n",
        "    gs_knn,\n",
        "    gs_rf,\n",
        "    gs_svm,\n",
        "    gs_pca\n",
        "]\n",
        "\n",
        "for i, model in enumerate(model_gs):\n",
        "    print(model_names[i]+\": Best accuracy: \"+str(model.best_score_))\n"
      ]
    },
    {
      "attachments": {},
      "cell_type": "markdown",
      "metadata": {},
      "source": [
        "#### Model evaluation with the best hyperparameters"
      ]
    },
    {
      "cell_type": "code",
      "execution_count": 1012,
      "metadata": {},
      "outputs": [
        {
          "name": "stdout",
          "output_type": "stream",
          "text": [
            "KNN\n",
            "              precision    recall  f1-score   support\n",
            "\n",
            "   circleCcw       0.86      0.90      0.88        60\n",
            "    circleCw       0.86      0.92      0.89        64\n",
            "        down       0.83      0.87      0.85        52\n",
            "        left       0.86      0.93      0.89        67\n",
            "       right       0.59      0.81      0.68        37\n",
            "      square       0.98      0.79      0.87        56\n",
            "    triangle       0.90      0.84      0.87        45\n",
            "          up       0.89      0.63      0.74        51\n",
            "\n",
            "    accuracy                           0.84       432\n",
            "   macro avg       0.85      0.84      0.83       432\n",
            "weighted avg       0.86      0.84      0.84       432\n",
            "\n",
            "Random Forest\n",
            "              precision    recall  f1-score   support\n",
            "\n",
            "   circleCcw       0.90      0.90      0.90        60\n",
            "    circleCw       0.89      0.88      0.88        64\n",
            "        down       0.88      0.85      0.86        52\n",
            "        left       0.91      0.87      0.89        67\n",
            "       right       0.76      0.84      0.79        37\n",
            "      square       0.87      0.95      0.91        56\n",
            "    triangle       0.89      0.89      0.89        45\n",
            "          up       0.81      0.76      0.79        51\n",
            "\n",
            "    accuracy                           0.87       432\n",
            "   macro avg       0.86      0.87      0.86       432\n",
            "weighted avg       0.87      0.87      0.87       432\n",
            "\n",
            "SVM\n",
            "              precision    recall  f1-score   support\n",
            "\n",
            "   circleCcw       0.92      0.93      0.93        60\n",
            "    circleCw       0.94      0.97      0.95        64\n",
            "        down       0.94      0.88      0.91        52\n",
            "        left       0.91      0.93      0.92        67\n",
            "       right       0.79      0.89      0.84        37\n",
            "      square       0.98      0.95      0.96        56\n",
            "    triangle       0.96      0.96      0.96        45\n",
            "          up       0.94      0.86      0.90        51\n",
            "\n",
            "    accuracy                           0.92       432\n",
            "   macro avg       0.92      0.92      0.92       432\n",
            "weighted avg       0.93      0.92      0.92       432\n",
            "\n",
            "PCA SVM\n",
            "              precision    recall  f1-score   support\n",
            "\n",
            "   circleCcw       0.92      0.93      0.93        60\n",
            "    circleCw       0.94      0.95      0.95        64\n",
            "        down       0.94      0.87      0.90        52\n",
            "        left       0.91      0.94      0.93        67\n",
            "       right       0.79      0.89      0.84        37\n",
            "      square       0.95      0.95      0.95        56\n",
            "    triangle       0.93      0.93      0.93        45\n",
            "          up       0.93      0.84      0.89        51\n",
            "\n",
            "    accuracy                           0.92       432\n",
            "   macro avg       0.91      0.91      0.91       432\n",
            "weighted avg       0.92      0.92      0.92       432\n",
            "\n"
          ]
        }
      ],
      "source": [
        "best_model_predictions = [\n",
        "    predicted_labels_knn,\n",
        "    predicted_labels_rf,\n",
        "    predicted_labels_svm,\n",
        "    predicted_labels_pca\n",
        "]\n",
        "\n",
        "for i, pred in enumerate(best_model_predictions):\n",
        "    print(model_names[i])\n",
        "    print(classification_report(y_test, pred))\n"
      ]
    },
    {
      "attachments": {},
      "cell_type": "markdown",
      "metadata": {},
      "source": [
        "### Final decision"
      ]
    },
    {
      "attachments": {},
      "cell_type": "markdown",
      "metadata": {},
      "source": [
        "#### Gestures in final model"
      ]
    },
    {
      "attachments": {},
      "cell_type": "markdown",
      "metadata": {},
      "source": [
        "or the selected “best”\n",
        "model show at least the confusion matrix for held-back test partition over different gestures. Discuss what the best feature extraction/model configuration is you found, and if there are gestures that\n",
        "are harder to distinguish than others"
      ]
    },
    {
      "cell_type": "code",
      "execution_count": 1013,
      "metadata": {},
      "outputs": [],
      "source": [
        "# print classification report/confusion matrix of the models showing all the gestures\n"
      ]
    }
  ],
  "metadata": {
    "colab": {
      "provenance": [],
      "toc_visible": true
    },
    "kernelspec": {
      "display_name": "Python 3",
      "language": "python",
      "name": "python3"
    },
    "language_info": {
      "codemirror_mode": {
        "name": "ipython",
        "version": 3
      },
      "file_extension": ".py",
      "mimetype": "text/x-python",
      "name": "python",
      "nbconvert_exporter": "python",
      "pygments_lexer": "ipython3",
      "version": "3.10.7"
    },
    "vscode": {
      "interpreter": {
        "hash": "bb56cb48f1704c39b3d01a1fb09b06111552d5da37e180d28dbbeb79acae456b"
      }
    }
  },
  "nbformat": 4,
  "nbformat_minor": 0
}
